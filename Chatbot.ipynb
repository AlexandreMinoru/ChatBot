{
 "cells": [
  {
   "cell_type": "code",
   "execution_count": 4,
   "id": "1853bdfc",
   "metadata": {},
   "outputs": [
    {
     "name": "stdout",
     "output_type": "stream",
     "text": [
      "✔ Download and installation successful\n",
      "You can now load the package via spacy.load('en_core_web_sm')\n"
     ]
    }
   ],
   "source": [
    "from chatterbot import ChatBot\n",
    "from chatterbot.trainers import ListTrainer\n",
    "from spacy.cli import download\n",
    "\n",
    "download(\"en_core_web_sm\")\n",
    "\n",
    "class ENGSM:\n",
    "    ISO_639_1 = 'en_core_web_sm'"
   ]
  },
  {
   "cell_type": "code",
   "execution_count": 20,
   "id": "08bba0c0",
   "metadata": {},
   "outputs": [
    {
     "name": "stdout",
     "output_type": "stream",
     "text": [
      "List Trainer: [####################] 100%\n"
     ]
    }
   ],
   "source": [
    "chatBot = ChatBot(\"BotDoido\" , tagger_language=ENGSM)\n",
    "\n",
    "conversa = [\n",
    "    \"Oi\",\n",
    "    \"Tudo bem?\",\n",
    "    \"Tudo joia\",\n",
    "    \"Como foi seu dia?\",\n",
    "    \"Bom até\",\n",
    "    \"Que foda, né?\",\n",
    "    \"Pois é\",\n",
    "]\n",
    "\n",
    "trainer = ListTrainer(chatBot)\n",
    "trainer.train(conversa)"
   ]
  },
  {
   "cell_type": "code",
   "execution_count": 22,
   "id": "10722b8d",
   "metadata": {},
   "outputs": [
    {
     "name": "stdout",
     "output_type": "stream",
     "text": [
      "Mande uma mensagem pro chatBot: oi\n",
      "Tudo bem?\n",
      "Mande uma mensagem pro chatBot: como foi ai?\n",
      "Bom até\n",
      "Mande uma mensagem pro chatBot: foda\n",
      "Pois é\n",
      "Mande uma mensagem pro chatBot: parar\n"
     ]
    }
   ],
   "source": [
    "while True:\n",
    "    mensagem = input(\"Mande uma mensagem pro chatBot: \")\n",
    "    if mensagem == \"parar\":\n",
    "        break\n",
    "    resposta = chatBot.get_response(mensagem)\n",
    "    print(resposta)"
   ]
  },
  {
   "cell_type": "code",
   "execution_count": 23,
   "id": "122ea987",
   "metadata": {},
   "outputs": [],
   "source": [
    "chatBot.storage.drop()"
   ]
  },
  {
   "cell_type": "code",
   "execution_count": null,
   "id": "140ab76f",
   "metadata": {},
   "outputs": [],
   "source": []
  }
 ],
 "metadata": {
  "kernelspec": {
   "display_name": "Python 3",
   "language": "python",
   "name": "python3"
  },
  "language_info": {
   "codemirror_mode": {
    "name": "ipython",
    "version": 3
   },
   "file_extension": ".py",
   "mimetype": "text/x-python",
   "name": "python",
   "nbconvert_exporter": "python",
   "pygments_lexer": "ipython3",
   "version": "3.6.13"
  }
 },
 "nbformat": 4,
 "nbformat_minor": 5
}
